{
  "nbformat": 4,
  "nbformat_minor": 0,
  "metadata": {
    "colab": {
      "provenance": []
    },
    "kernelspec": {
      "name": "python3",
      "display_name": "Python 3"
    },
    "language_info": {
      "name": "python"
    }
  },
  "cells": [
    {
      "cell_type": "code",
      "source": [
        "from google.colab import drive\n",
        "drive.mount('/content/drive')"
      ],
      "metadata": {
        "colab": {
          "base_uri": "https://localhost:8080/"
        },
        "id": "AUfU1g9TpGlP",
        "outputId": "c5bc68b1-0408-4550-bf78-7ff972d85a60"
      },
      "execution_count": 17,
      "outputs": [
        {
          "output_type": "stream",
          "name": "stdout",
          "text": [
            "Drive already mounted at /content/drive; to attempt to forcibly remount, call drive.mount(\"/content/drive\", force_remount=True).\n"
          ]
        }
      ]
    },
    {
      "cell_type": "code",
      "source": [
        "import os\n",
        "\n",
        "folder_path = \"/content/drive/My Drive/2D_paths-main\"\n",
        "files_list = os.listdir(folder_path)"
      ],
      "metadata": {
        "id": "LTK1LnJ4p1xn"
      },
      "execution_count": 18,
      "outputs": []
    },
    {
      "cell_type": "code",
      "execution_count": 19,
      "metadata": {
        "id": "ELz1kRvWmBbg"
      },
      "outputs": [],
      "source": [
        "import imageio.v3 as iio\n",
        "import numpy as np\n",
        "from collections import deque"
      ]
    },
    {
      "cell_type": "code",
      "source": [
        "def path_exists(\n",
        "       universe: np.ndarray,\n",
        "       start_x: int, start_y: int,\n",
        "       end_x: int, end_y: int) -> bool:\n",
        "       height, width = universe.shape\n",
        "       binary = (universe == 0)\n",
        "\n",
        "       visited = np.zeros_like(binary, dtype=bool)\n",
        "       prev = {}\n",
        "       queue = deque()\n",
        "       queue.append((start_x, start_y))\n",
        "       visited[start_y, start_x] = True\n",
        "       directions = [(-1, 0), (1, 0), (0, -1), (0, 1)]\n",
        "\n",
        "       while queue:\n",
        "           x, y = queue.popleft()\n",
        "           if (x, y) == (end_x, end_y):\n",
        "               path = []\n",
        "               while (x, y) != (start_x, start_y):\n",
        "                   path.append((x, y))\n",
        "                   x, y = prev[(x, y)]\n",
        "               path.append((start_x, start_y))\n",
        "               path.reverse()\n",
        "               return path\n",
        "\n",
        "           for dx, dy in directions:\n",
        "               nx, ny = x + dx, y + dy\n",
        "               if 0 <= nx < width and 0 <= ny < height and binary[ny, nx] and not visited[ny, nx]:\n",
        "                   visited[ny, nx] = True\n",
        "                   prev[(nx, ny)] = (x, y)\n",
        "                   queue.append((nx, ny))\n",
        "       return None"
      ],
      "metadata": {
        "id": "IWh2tqB7sl9c"
      },
      "execution_count": 20,
      "outputs": []
    },
    {
      "cell_type": "code",
      "source": [
        "def draw_path_on_image(universe: np.ndarray, path, output_file):\n",
        "\n",
        "    if universe.ndim == 2:\n",
        "        image = np.stack([universe] * 3, axis=-1).astype(np.uint8)\n",
        "    else:\n",
        "        image = universe.copy()\n",
        "\n",
        "    for x, y in path:\n",
        "        image[y, x] = [255, 0, 0]\n",
        "\n",
        "    iio.imwrite(output_file, image)\n",
        "    print(f\"Saved image with path to: {output_file}\")"
      ],
      "metadata": {
        "id": "ZHKUn5CEcH9E"
      },
      "execution_count": 34,
      "outputs": []
    },
    {
      "cell_type": "code",
      "source": [
        "for file_name in files_list:\n",
        "  image = iio.imread(os.path.join(folder_path, file_name))\n",
        "  x,y = image.shape\n",
        "\n",
        "  start_x = 0\n",
        "  start_y = 0\n",
        "  end_x = x-1\n",
        "  end_y = y-1\n",
        "\n",
        "  path = path_exists(image,start_x,start_y,end_x,end_y)\n",
        "\n",
        "  if path:\n",
        "    print(\"Path found:\\n\")\n",
        "    base_name = os.path.splitext(file_name)[0]\n",
        "    new_file_name = base_name+\"_path_result.png\"\n",
        "    new_folder_path =\"/content/drive/My Drive/Images_with_path\"\n",
        "    output_path = os.path.join(new_folder_path,new_file_name)\n",
        "    draw_path_on_image(image, path, output_path)\n",
        "  else:\n",
        "    print(\"No path found\")"
      ],
      "metadata": {
        "id": "43s_L8nmtALN",
        "colab": {
          "base_uri": "https://localhost:8080/"
        },
        "outputId": "084d89fa-cd71-4969-9e1d-b0957bea0208"
      },
      "execution_count": 35,
      "outputs": [
        {
          "output_type": "stream",
          "name": "stdout",
          "text": [
            "Path found:\n",
            "\n",
            "Saved image with path to: /content/drive/My Drive/Images_with_path/small-ring_path_result.png\n",
            "Path found:\n",
            "\n",
            "Saved image with path to: /content/drive/My Drive/Images_with_path/bars_path_result.png\n",
            "Path found:\n",
            "\n",
            "Saved image with path to: /content/drive/My Drive/Images_with_path/polygons_path_result.png\n"
          ]
        }
      ]
    }
  ]
}